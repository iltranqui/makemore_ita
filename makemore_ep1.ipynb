{
 "cells": [
  {
   "cell_type": "markdown",
   "metadata": {},
   "source": [
    "## 1ST FOLLOWING the 1st Video from Karpathy NN Video\n",
    "\n",
    "<a href=\"https://www.youtube.com/watch?v=PaCmpygFfXo&list=PLAqhIrjkxbuWI23v9cThsA9GvCAUhRvKZ&index=2\" target=\"_blank\">1st video of the series</a>"
   ]
  },
  {
   "cell_type": "markdown",
   "metadata": {},
   "source": [
    "The `open` comes from the standard python library.\n",
    "The `read` method is called on the file object returned by open.\n",
    "The `splitlines` method is called on the string returned by read. It splits the string into a list of lines, breaking at line boundaries. By default, the line breaks are not included in the resulting list."
   ]
  },
  {
   "cell_type": "code",
   "execution_count": 5,
   "metadata": {},
   "outputs": [
    {
     "data": {
      "text/plain": [
       "['emma',\n",
       " 'olivia',\n",
       " 'ava',\n",
       " 'isabella',\n",
       " 'sophia',\n",
       " 'charlotte',\n",
       " 'mia',\n",
       " 'amelia',\n",
       " 'harper',\n",
       " 'evelyn']"
      ]
     },
     "execution_count": 5,
     "metadata": {},
     "output_type": "execute_result"
    }
   ],
   "source": [
    "words = open('names.txt', 'r').read().splitlines()\n",
    "words[:10]"
   ]
  },
  {
   "cell_type": "code",
   "execution_count": 7,
   "metadata": {},
   "outputs": [
    {
     "name": "stdout",
     "output_type": "stream",
     "text": [
      "Minimum: 2\n",
      "Maximum: 15\n",
      "Length Dataset: 32033\n"
     ]
    }
   ],
   "source": [
    "# Doing some simple analysis of the names list \n",
    "print(f\"Minimum: {min(len(word) for word in words)}\")\n",
    "print(f\"Maximum: {max(len(word) for word in words)}\")\n",
    "print(f\"Length Dataset: {len(words)}\")"
   ]
  },
  {
   "cell_type": "markdown",
   "metadata": {},
   "source": [
    "The method `zip` returns an iterator of tuples, where the i-th tuple contains the i-th element from each of the argument sequences or iterables. The iterator stops when the shortest input iterable is exhausted. So for example by parrying the 1st 4 words: "
   ]
  },
  {
   "cell_type": "code",
   "execution_count": 11,
   "metadata": {},
   "outputs": [
    {
     "name": "stdout",
     "output_type": "stream",
     "text": [
      "emma\n",
      "\n",
      "e m\n",
      "m m\n",
      "m a\n",
      "olivia\n",
      "\n",
      "o l\n",
      "l i\n",
      "i v\n",
      "v i\n",
      "i a\n",
      "ava\n",
      "\n",
      "a v\n",
      "v a\n",
      "isabella\n",
      "\n",
      "i s\n",
      "s a\n",
      "a b\n",
      "b e\n",
      "e l\n",
      "l l\n",
      "l a\n"
     ]
    }
   ],
   "source": [
    "for w in words[:4]:\n",
    "    print(f\"{w}\\n\")\n",
    "    for let1, let2 in zip(w, w[1:]):\n",
    "        print(let1, let2)"
   ]
  },
  {
   "cell_type": "markdown",
   "metadata": {},
   "source": [
    "Large Language Models to process specific tasks like an end of a sentence and the beginning of a sentence, special tokens usually like `<SOS>` and `<EOS>`, which stand for Start of Sentence and End of Sentence."
   ]
  },
  {
   "cell_type": "code",
   "execution_count": 12,
   "metadata": {},
   "outputs": [
    {
     "name": "stdout",
     "output_type": "stream",
     "text": [
      "<S> e\n",
      "e m\n",
      "m m\n",
      "m a\n",
      "a <E>\n",
      "<S> o\n",
      "o l\n",
      "l i\n",
      "i v\n",
      "v i\n",
      "i a\n",
      "a <E>\n",
      "<S> a\n",
      "a v\n",
      "v a\n",
      "a <E>\n",
      "<S> i\n",
      "i s\n",
      "s a\n",
      "a b\n",
      "b e\n",
      "e l\n",
      "l l\n",
      "l a\n",
      "a <E>\n"
     ]
    }
   ],
   "source": [
    "for w in words[:4]:\n",
    "    parola = ['<S>'] + list(w) + ['<E>']\n",
    "    for let1, let2 in zip(parola, parola[1:]):\n",
    "        print(let1, let2)"
   ]
  },
  {
   "cell_type": "markdown",
   "metadata": {},
   "source": [
    "IN a bigram, which is a dataset which considers only 2 words or characters at a time, how can we understand which will be the next character or describe a probability distribution of the next character? WE can first star using the amount of times a character appears after another character. "
   ]
  }
 ],
 "metadata": {
  "kernelspec": {
   "display_name": "transformers_maverick",
   "language": "python",
   "name": "python3"
  },
  "language_info": {
   "codemirror_mode": {
    "name": "ipython",
    "version": 3
   },
   "file_extension": ".py",
   "mimetype": "text/x-python",
   "name": "python",
   "nbconvert_exporter": "python",
   "pygments_lexer": "ipython3",
   "version": "3.11.9"
  }
 },
 "nbformat": 4,
 "nbformat_minor": 2
}
